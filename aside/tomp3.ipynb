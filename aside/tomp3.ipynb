{
 "cells": [
  {
   "cell_type": "code",
   "execution_count": 3,
   "id": "052fa31a",
   "metadata": {},
   "outputs": [
    {
     "name": "stdout",
     "output_type": "stream",
     "text": [
      "MoviePy - Writing audio in C:\\Users\\Lenovo\\Downloads\\WhatsApp Audio 2025-08-23 at 4.01.32 PM.wav\n"
     ]
    },
    {
     "name": "stderr",
     "output_type": "stream",
     "text": [
      "                                                                        "
     ]
    },
    {
     "name": "stdout",
     "output_type": "stream",
     "text": [
      "MoviePy - Done.\n"
     ]
    },
    {
     "name": "stderr",
     "output_type": "stream",
     "text": [
      "\r"
     ]
    }
   ],
   "source": [
    "from moviepy import AudioFileClip\n",
    "\n",
    "audio = AudioFileClip(r\"C:\\Users\\Lenovo\\Downloads\\WhatsApp Audio 2025-08-23 at 4.01.32 PM.mpeg\")\n",
    "\n",
    "audio.write_audiofile(r\"C:\\Users\\Lenovo\\Downloads\\WhatsApp Audio 2025-08-23 at 4.01.32 PM.wav\")"
   ]
  },
  {
   "cell_type": "code",
   "execution_count": 4,
   "id": "785aa0bb",
   "metadata": {},
   "outputs": [
    {
     "name": "stderr",
     "output_type": "stream",
     "text": [
      "c:\\Users\\Lenovo\\Downloads\\project\\.venv\\Lib\\site-packages\\pydub\\utils.py:170: RuntimeWarning: Couldn't find ffmpeg or avconv - defaulting to ffmpeg, but may not work\n",
      "  warn(\"Couldn't find ffmpeg or avconv - defaulting to ffmpeg, but may not work\", RuntimeWarning)\n"
     ]
    },
    {
     "name": "stdout",
     "output_type": "stream",
     "text": [
      "✅ Exported: sayed_clips\\sayed_01.wav\n",
      "✅ Exported: sayed_clips\\sayed_02.wav\n",
      "✅ Exported: sayed_clips\\sayed_03.wav\n",
      "✅ Exported: sayed_clips\\sayed_04.wav\n",
      "✅ Exported: sayed_clips\\sayed_05.wav\n",
      "✅ Exported: sayed_clips\\sayed_06.wav\n",
      "✅ Exported: sayed_clips\\sayed_07.wav\n",
      "✅ Exported: sayed_clips\\sayed_08.wav\n",
      "✅ Exported: sayed_clips\\sayed_09.wav\n",
      "✅ Exported: sayed_clips\\sayed_10.wav\n",
      "✅ Exported: sayed_clips\\sayed_11.wav\n",
      "✅ Exported: sayed_clips\\sayed_12.wav\n",
      "✅ Exported: sayed_clips\\sayed_13.wav\n",
      "✅ Exported: sayed_clips\\sayed_14.wav\n",
      "✅ Exported: sayed_clips\\sayed_15.wav\n",
      "✅ Exported: sayed_clips\\sayed_16.wav\n",
      "✅ Exported: sayed_clips\\sayed_17.wav\n",
      "🎉 Finished splitting audio into 17 clips.\n"
     ]
    }
   ],
   "source": [
    "from pydub import AudioSegment\n",
    "import os\n",
    "\n",
    "input_file = r\"C:\\Users\\Lenovo\\Downloads\\WhatsApp Audio 2025-08-23 at 4.01.32 PM.wav\"\n",
    "output_folder = \"sayed_clips\"\n",
    "clip_length_ms = 60 * 1000\n",
    "\n",
    "# Create output folder if it doesn't exist\n",
    "os.makedirs(output_folder, exist_ok=True)\n",
    "\n",
    "\n",
    "audio = AudioSegment.from_file(input_file)\n",
    "\n",
    "\n",
    "total_length_ms = len(audio)\n",
    "num_clips = (total_length_ms // clip_length_ms) + 1\n",
    "\n",
    "for i in range(num_clips):\n",
    "    start_ms = i * clip_length_ms\n",
    "    end_ms = min((i + 1) * clip_length_ms, total_length_ms)\n",
    "    clip = audio[start_ms:end_ms]\n",
    "    clip_filename = os.path.join(output_folder, f\"sayed_{i+1:02d}.wav\")\n",
    "    clip.export(clip_filename, format=\"wav\")\n",
    "    print(f\"✅ Exported: {clip_filename}\")\n",
    "\n",
    "print(f\"🎉 Finished splitting audio into {num_clips} clips.\")"
   ]
  }
 ],
 "metadata": {
  "kernelspec": {
   "display_name": ".venv",
   "language": "python",
   "name": "python3"
  },
  "language_info": {
   "codemirror_mode": {
    "name": "ipython",
    "version": 3
   },
   "file_extension": ".py",
   "mimetype": "text/x-python",
   "name": "python",
   "nbconvert_exporter": "python",
   "pygments_lexer": "ipython3",
   "version": "3.11.0"
  }
 },
 "nbformat": 4,
 "nbformat_minor": 5
}
