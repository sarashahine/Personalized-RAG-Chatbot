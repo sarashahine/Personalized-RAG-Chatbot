{
 "cells": [
  {
   "cell_type": "code",
   "execution_count": 1,
   "id": "1bfbbbb4",
   "metadata": {},
   "outputs": [
    {
     "name": "stdout",
     "output_type": "stream",
     "text": [
      "✅ Loaded 14 chunks from /Users/mohamad/Documents/GitHub/Personalized-RAG-Chatbot/new_chunks.json\n"
     ]
    }
   ],
   "source": [
    "import os\n",
    "import json\n",
    "\n",
    "chunks = []\n",
    "\n",
    "folder = r\"/Users/mohamad/Documents/GitHub/Personalized-RAG-Chatbot/new_chunks.json\"\n",
    "\n",
    "with open(folder, \"r\", encoding=\"utf-8\") as f:\n",
    "    data = json.load(f)\n",
    "    if isinstance(data, list):\n",
    "        chunks.extend(data)\n",
    "    elif isinstance(data, dict):\n",
    "        chunks.append(data)\n",
    "    else:\n",
    "        print(f\"Skipping {folder} as it is not a list or dictionary.\")\n",
    "\n",
    "print(f\"✅ Loaded {len(chunks)} chunks from {folder}\")\n",
    "\n",
    "texts = [c[\"content\"] for c in chunks]\n",
    "metadata = [\n",
    "    {\n",
    "        \"id\": c[\"id\"],\n",
    "        \"title\": c[\"title\"],\n",
    "        \"source\": c[\"source\"],\n",
    "        \"text\": c[\"content\"]\n",
    "    }\n",
    "    for c in chunks\n",
    "]"
   ]
  },
  {
   "cell_type": "code",
   "execution_count": null,
   "id": "1fdbcb04",
   "metadata": {},
   "outputs": [
    {
     "name": "stderr",
     "output_type": "stream",
     "text": [
      "Embedding texts: 100%|██████████| 14/14 [00:07<00:00,  1.92it/s]\n"
     ]
    }
   ],
   "source": [
    "import openai\n",
    "import numpy as np\n",
    "from tqdm import tqdm\n",
    "import os\n",
    "from dotenv import load_dotenv\n",
    "\n",
    "load_dotenv()\n",
    "openai.api_key = os.getenv(\"OPENAI_API_KEY\")\n",
    "\n",
    "texts = [c[\"content\"] for c in chunks]\n",
    "embeddings = []\n",
    "\n",
    "for text in tqdm(texts, desc=\"Embedding texts\"):\n",
    "    response = openai.embeddings.create(\n",
    "        input=text,\n",
    "        model=\"text-embedding-3-small\"\n",
    "    )\n",
    "    emb = np.array(response.data[0].embedding, dtype=\"float32\")\n",
    "    emb /= np.linalg.norm(emb)\n",
    "    embeddings.append(emb)\n",
    "\n",
    "embeddings = np.vstack(embeddings)"
   ]
  },
  {
   "cell_type": "code",
   "execution_count": 3,
   "id": "daeaf286",
   "metadata": {},
   "outputs": [
    {
     "name": "stdout",
     "output_type": "stream",
     "text": [
      "🔄 Loaded existing index with 86 vectors.\n",
      "➕ Added 14 new vectors. Total is now 100 vectors.\n",
      "💾 Updated FAISS index saved with 100 total vectors.\n"
     ]
    }
   ],
   "source": [
    "import faiss\n",
    "import os\n",
    "import numpy as np\n",
    "\n",
    "# Step 1: Load existing index\n",
    "index_path = \"storage/openai_index.faiss\"\n",
    "if os.path.exists(index_path):\n",
    "    index = faiss.read_index(index_path)\n",
    "    print(f\"🔄 Loaded existing index with {index.ntotal} vectors.\")\n",
    "else:\n",
    "    raise FileNotFoundError(f\"FAISS index not found at {index_path}\")\n",
    "\n",
    "# Step 3: Add new embeddings to index\n",
    "index.add(embeddings)\n",
    "print(f\"➕ Added {len(embeddings)} new vectors. Total is now {index.ntotal} vectors.\")\n",
    "\n",
    "# Step 4: Save updated index\n",
    "faiss.write_index(index, index_path)\n",
    "print(f\"💾 Updated FAISS index saved with {index.ntotal} total vectors.\")\n"
   ]
  }
 ],
 "metadata": {
  "kernelspec": {
   "display_name": ".venv",
   "language": "python",
   "name": "python3"
  },
  "language_info": {
   "codemirror_mode": {
    "name": "ipython",
    "version": 3
   },
   "file_extension": ".py",
   "mimetype": "text/x-python",
   "name": "python",
   "nbconvert_exporter": "python",
   "pygments_lexer": "ipython3",
   "version": "3.11.9"
  }
 },
 "nbformat": 4,
 "nbformat_minor": 5
}
