{
 "cells": [
  {
   "cell_type": "code",
   "execution_count": 15,
   "id": "0964ff68",
   "metadata": {},
   "outputs": [],
   "source": [
    "import os\n",
    "os.environ[\"ASSEMBLYAI_API_KEY\"] = \"ac29121b0132438da6b0ea02700c3709\"\n",
    "ASSEMBLYAI_API_KEY = os.getenv(\"ASSEMBLYAI_API_KEY\")\n"
   ]
  },
  {
   "cell_type": "code",
   "execution_count": null,
   "id": "f8db0ea6",
   "metadata": {},
   "outputs": [
    {
     "name": "stdout",
     "output_type": "stream",
     "text": [
      "✅ Audio uploaded: https://cdn.assemblyai.com/upload/5e4238fe-e001-416e-8808-1b6c21d58d6f\n",
      "✅ Transcription complete:\n",
      "شو هي الأسماء اللي علمها الله سبحانه وتعالى للنبي آدم؟\n"
     ]
    }
   ],
   "source": [
    "import requests\n",
    "import json\n",
    "import os\n",
    "from dotenv import load_dotenv\n",
    "\n",
    "load_dotenv()\n",
    "ASSEMBLYAI_API_KEY = os.getenv(\"ASSEMBLYAI_API_KEY\")\n",
    "\n",
    "base_url = \"https://api.assemblyai.com\"\n",
    "\n",
    "headers = {\"authorization\": ASSEMBLYAI_API_KEY}\n",
    "\n",
    "audio_file = r\"C:\\Users\\Lenovo\\Downloads\\project\\voices\\اسماء_لبناني.wav\"\n",
    "with open(audio_file, \"rb\") as f:\n",
    "    upload_resp = requests.post(\n",
    "        base_url + \"/v2/upload\",\n",
    "        headers=headers,\n",
    "        data=f\n",
    "    )\n",
    "\n",
    "audio_url = upload_resp.json()[\"upload_url\"]\n",
    "print(\"✅ Audio uploaded:\", audio_url)\n",
    "\n",
    "\n",
    "data = {\n",
    "    \"audio_url\": audio_url,\n",
    "    \"speech_model\": \"universal\",\n",
    "    \"language_code\": \"ar\"\n",
    "}\n",
    "\n",
    "response = requests.post(base_url + \"/v2/transcript\", json=data, headers=headers)\n",
    "transcript_id = response.json()[\"id\"]\n",
    "polling_endpoint = f\"{base_url}/v2/transcript/{transcript_id}\"\n",
    "\n",
    "\n",
    "while True:\n",
    "    transcription_result = requests.get(polling_endpoint, headers=headers).json()\n",
    "    \n",
    "    if transcription_result[\"status\"] == \"completed\":\n",
    "        print(\"✅ Transcription complete:\")\n",
    "        print(transcription_result[\"text\"])\n",
    "        break\n",
    "    elif transcription_result[\"status\"] == \"error\":\n",
    "        raise RuntimeError(f\"Transcription failed: {transcription_result['error']}\")\n",
    "    else:\n",
    "        time.sleep(2)"
   ]
  },
  {
   "cell_type": "code",
   "execution_count": 6,
   "id": "0575f5e2",
   "metadata": {},
   "outputs": [
    {
     "name": "stdout",
     "output_type": "stream",
     "text": [
      "language_code='ara' language_probability=1.0 text='شو هي الأسماء اللي علما الله سبحانه وتعالى للنبي ادم.' words=[SpeechToTextWordResponseModel(text='شو', start=0.5, end=0.659, type='word', speaker_id='speaker_0', logprob=0.0, characters=None), SpeechToTextWordResponseModel(text=' ', start=0.659, end=0.699, type='spacing', speaker_id='speaker_0', logprob=0.0, characters=None), SpeechToTextWordResponseModel(text='هي', start=0.699, end=0.939, type='word', speaker_id='speaker_0', logprob=0.0, characters=None), SpeechToTextWordResponseModel(text=' ', start=0.939, end=0.939, type='spacing', speaker_id='speaker_0', logprob=0.0, characters=None), SpeechToTextWordResponseModel(text='الأسماء', start=0.939, end=1.5, type='word', speaker_id='speaker_0', logprob=0.0, characters=None), SpeechToTextWordResponseModel(text=' ', start=1.5, end=1.5, type='spacing', speaker_id='speaker_0', logprob=0.0, characters=None), SpeechToTextWordResponseModel(text='اللي', start=1.5, end=1.719, type='word', speaker_id='speaker_0', logprob=0.0, characters=None), SpeechToTextWordResponseModel(text=' ', start=1.719, end=1.739, type='spacing', speaker_id='speaker_0', logprob=0.0, characters=None), SpeechToTextWordResponseModel(text='علما', start=1.74, end=2.22, type='word', speaker_id='speaker_0', logprob=0.0, characters=None), SpeechToTextWordResponseModel(text=' ', start=2.22, end=2.24, type='spacing', speaker_id='speaker_0', logprob=0.0, characters=None), SpeechToTextWordResponseModel(text='الله', start=2.24, end=2.479, type='word', speaker_id='speaker_0', logprob=0.0, characters=None), SpeechToTextWordResponseModel(text=' ', start=2.479, end=2.5, type='spacing', speaker_id='speaker_0', logprob=0.0, characters=None), SpeechToTextWordResponseModel(text='سبحانه', start=2.5, end=2.999, type='word', speaker_id='speaker_0', logprob=0.0, characters=None), SpeechToTextWordResponseModel(text=' ', start=2.999, end=3.039, type='spacing', speaker_id='speaker_0', logprob=0.0, characters=None), SpeechToTextWordResponseModel(text='وتعالى', start=3.039, end=3.539, type='word', speaker_id='speaker_0', logprob=0.0, characters=None), SpeechToTextWordResponseModel(text=' ', start=3.539, end=3.579, type='spacing', speaker_id='speaker_0', logprob=0.0, characters=None), SpeechToTextWordResponseModel(text='للنبي', start=3.579, end=3.999, type='word', speaker_id='speaker_0', logprob=0.0, characters=None), SpeechToTextWordResponseModel(text=' ', start=3.999, end=4.0, type='spacing', speaker_id='speaker_0', logprob=0.0, characters=None), SpeechToTextWordResponseModel(text='ادم.', start=4.0, end=4.579, type='word', speaker_id='speaker_0', logprob=0.0, characters=None)] channel_index=None additional_formats=None\n"
     ]
    }
   ],
   "source": [
    "import os\n",
    "from dotenv import load_dotenv\n",
    "from io import BytesIO\n",
    "from elevenlabs.client import ElevenLabs\n",
    "\n",
    "load_dotenv()\n",
    "\n",
    "elevenlabs = ElevenLabs(\n",
    "    api_key=os.getenv(\"ELEVENLABS_API_KEY\"),\n",
    ")\n",
    "\n",
    "audio_path = r\"C:\\Users\\Lenovo\\Downloads\\project\\voices\\اسماء_لبناني.wav\"  # You can use .wav or .m4a as well\n",
    "\n",
    "with open(audio_path, \"rb\") as f:\n",
    "    audio_data = BytesIO(f.read())\n",
    "\n",
    "transcription = elevenlabs.speech_to_text.convert(\n",
    "    file=audio_data,\n",
    "    model_id=\"scribe_v1\",\n",
    "    tag_audio_events=True,\n",
    "    language_code=\"ara\",\n",
    "    diarize=True,\n",
    ")\n",
    "\n",
    "print(transcription)\n"
   ]
  }
 ],
 "metadata": {
  "kernelspec": {
   "display_name": ".venv",
   "language": "python",
   "name": "python3"
  },
  "language_info": {
   "codemirror_mode": {
    "name": "ipython",
    "version": 3
   },
   "file_extension": ".py",
   "mimetype": "text/x-python",
   "name": "python",
   "nbconvert_exporter": "python",
   "pygments_lexer": "ipython3",
   "version": "3.11.0"
  }
 },
 "nbformat": 4,
 "nbformat_minor": 5
}
