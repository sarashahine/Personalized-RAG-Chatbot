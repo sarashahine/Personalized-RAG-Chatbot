{
 "cells": [
  {
   "cell_type": "code",
   "execution_count": null,
   "id": "83e731c7",
   "metadata": {},
   "outputs": [
    {
     "data": {
      "text/plain": [
       "0"
      ]
     },
     "execution_count": 1,
     "metadata": {},
     "output_type": "execute_result"
    }
   ],
   "source": [
    "from gtts import gTTS\n",
    "import os\n",
    "\n",
    "text = \"شو هي الأسماء اللي علمها الله سبحانه وتعالى للنبي آدم؟\"\n",
    "\n",
    "# Create TTS object\n",
    "tts = gTTS(text=text, lang=\"ar\")\n",
    "\n",
    "tts.save(\"output.mp3\")\n",
    "\n",
    "os.system(\"start output.mp3\")"
   ]
  },
  {
   "cell_type": "code",
   "execution_count": null,
   "id": "c5a802b8",
   "metadata": {},
   "outputs": [
    {
     "name": "stdout",
     "output_type": "stream",
     "text": [
      "Audio saved as output2.mp3\n"
     ]
    },
    {
     "ename": "ModuleNotFoundError",
     "evalue": "No module named 'playsound'",
     "output_type": "error",
     "traceback": [
      "\u001b[31m---------------------------------------------------------------------------\u001b[39m",
      "\u001b[31mModuleNotFoundError\u001b[39m                       Traceback (most recent call last)",
      "\u001b[36mCell\u001b[39m\u001b[36m \u001b[39m\u001b[32mIn[4]\u001b[39m\u001b[32m, line 31\u001b[39m\n\u001b[32m     28\u001b[39m \u001b[38;5;28mprint\u001b[39m(\u001b[33m\"\u001b[39m\u001b[33mAudio saved as output2.mp3\u001b[39m\u001b[33m\"\u001b[39m)\n\u001b[32m     30\u001b[39m \u001b[38;5;66;03m# Play it\u001b[39;00m\n\u001b[32m---> \u001b[39m\u001b[32m31\u001b[39m \u001b[38;5;28;01mimport\u001b[39;00m\u001b[38;5;250m \u001b[39m\u001b[34;01mplaysound\u001b[39;00m\n\u001b[32m     32\u001b[39m playsound.playsound(\u001b[33m\"\u001b[39m\u001b[33moutput2.mp3\u001b[39m\u001b[33m\"\u001b[39m)\n",
      "\u001b[31mModuleNotFoundError\u001b[39m: No module named 'playsound'"
     ]
    }
   ],
   "source": [
    "from dotenv import load_dotenv\n",
    "from elevenlabs.client import ElevenLabs\n",
    "from elevenlabs import play\n",
    "import os\n",
    "\n",
    "load_dotenv()\n",
    "\n",
    "elevenlabs = ElevenLabs(\n",
    "  api_key=os.getenv(\"ELEVENLABS_API_KEY\"),\n",
    ")\n",
    "\n",
    "audio = elevenlabs.text_to_speech.convert(\n",
    "    text=\"شو هي الأسماء اللي علمها الله سبحانه وتعالى للنبي آدم؟\",\n",
    "    voice_id=\"JBFqnCBsd6RMkjVDRZzb\",\n",
    "    model_id=\"eleven_multilingual_v2\",\n",
    "    output_format=\"mp3_44100_128\",\n",
    ")\n",
    "\n",
    "from pathlib import Path\n",
    "\n",
    "# Convert generator to bytes\n",
    "audio_bytes = b\"\".join(audio)\n",
    "\n",
    "with open(\"output2.mp3\", \"wb\") as f:\n",
    "    f.write(audio_bytes)\n",
    "\n",
    "print(\"Audio saved as output2.mp3\")\n"
   ]
  },
  {
   "cell_type": "code",
   "execution_count": null,
   "id": "82546c28",
   "metadata": {},
   "outputs": [
    {
     "ename": "ApiError",
     "evalue": "headers: {'date': 'Sun, 31 Aug 2025 12:49:25 GMT', 'server': 'uvicorn', 'content-length': '142', 'content-type': 'application/json', 'access-control-allow-origin': '*', 'access-control-allow-headers': '*', 'access-control-allow-methods': 'POST, PATCH, OPTIONS, DELETE, GET, PUT', 'access-control-max-age': '600', 'strict-transport-security': 'max-age=31536000; includeSubDomains', 'x-trace-id': '1946a1466de8b38541b51393f801fff0', 'x-region': 'us-central1', 'via': '1.1 google, 1.1 google', 'alt-svc': 'h3=\":443\"; ma=2592000,h3-29=\":443\"; ma=2592000'}, status_code: 401, body: {'detail': {'status': 'missing_permissions', 'message': 'The API key you used is missing the permission voices_write to execute this operation.'}}",
     "output_type": "error",
     "traceback": [
      "\u001b[31m---------------------------------------------------------------------------\u001b[39m",
      "\u001b[31mApiError\u001b[39m                                  Traceback (most recent call last)",
      "\u001b[36mCell\u001b[39m\u001b[36m \u001b[39m\u001b[32mIn[29]\u001b[39m\u001b[32m, line 1\u001b[39m\n\u001b[32m----> \u001b[39m\u001b[32m1\u001b[39m \u001b[43melevenlabs\u001b[49m\u001b[43m.\u001b[49m\u001b[43mvoices\u001b[49m\u001b[43m.\u001b[49m\u001b[43mdelete\u001b[49m\u001b[43m(\u001b[49m\u001b[43mvoice_id\u001b[49m\u001b[43m=\u001b[49m\u001b[33;43m\"\u001b[39;49m\u001b[33;43m9hpTsoJZGZdxxmZyoOPp\u001b[39;49m\u001b[33;43m\"\u001b[39;49m\u001b[43m)\u001b[49m\n",
      "\u001b[36mFile \u001b[39m\u001b[32mc:\\Users\\Lenovo\\Downloads\\project\\.venv\\Lib\\site-packages\\elevenlabs\\voices\\client.py:238\u001b[39m, in \u001b[36mVoicesClient.delete\u001b[39m\u001b[34m(self, voice_id, request_options)\u001b[39m\n\u001b[32m    208\u001b[39m \u001b[38;5;28;01mdef\u001b[39;00m\u001b[38;5;250m \u001b[39m\u001b[34mdelete\u001b[39m(\n\u001b[32m    209\u001b[39m     \u001b[38;5;28mself\u001b[39m, voice_id: \u001b[38;5;28mstr\u001b[39m, *, request_options: typing.Optional[RequestOptions] = \u001b[38;5;28;01mNone\u001b[39;00m\n\u001b[32m    210\u001b[39m ) -> DeleteVoiceResponseModel:\n\u001b[32m    211\u001b[39m \u001b[38;5;250m    \u001b[39m\u001b[33;03m\"\"\"\u001b[39;00m\n\u001b[32m    212\u001b[39m \u001b[33;03m    Deletes a voice by its ID.\u001b[39;00m\n\u001b[32m    213\u001b[39m \n\u001b[32m   (...)\u001b[39m\u001b[32m    236\u001b[39m \u001b[33;03m    )\u001b[39;00m\n\u001b[32m    237\u001b[39m \u001b[33;03m    \"\"\"\u001b[39;00m\n\u001b[32m--> \u001b[39m\u001b[32m238\u001b[39m     _response = \u001b[38;5;28;43mself\u001b[39;49m\u001b[43m.\u001b[49m\u001b[43m_raw_client\u001b[49m\u001b[43m.\u001b[49m\u001b[43mdelete\u001b[49m\u001b[43m(\u001b[49m\u001b[43mvoice_id\u001b[49m\u001b[43m,\u001b[49m\u001b[43m \u001b[49m\u001b[43mrequest_options\u001b[49m\u001b[43m=\u001b[49m\u001b[43mrequest_options\u001b[49m\u001b[43m)\u001b[49m\n\u001b[32m    239\u001b[39m     \u001b[38;5;28;01mreturn\u001b[39;00m _response.data\n",
      "\u001b[36mFile \u001b[39m\u001b[32mc:\\Users\\Lenovo\\Downloads\\project\\.venv\\Lib\\site-packages\\elevenlabs\\voices\\raw_client.py:299\u001b[39m, in \u001b[36mRawVoicesClient.delete\u001b[39m\u001b[34m(self, voice_id, request_options)\u001b[39m\n\u001b[32m    297\u001b[39m \u001b[38;5;28;01mexcept\u001b[39;00m JSONDecodeError:\n\u001b[32m    298\u001b[39m     \u001b[38;5;28;01mraise\u001b[39;00m ApiError(status_code=_response.status_code, headers=\u001b[38;5;28mdict\u001b[39m(_response.headers), body=_response.text)\n\u001b[32m--> \u001b[39m\u001b[32m299\u001b[39m \u001b[38;5;28;01mraise\u001b[39;00m ApiError(status_code=_response.status_code, headers=\u001b[38;5;28mdict\u001b[39m(_response.headers), body=_response_json)\n",
      "\u001b[31mApiError\u001b[39m: headers: {'date': 'Sun, 31 Aug 2025 12:49:25 GMT', 'server': 'uvicorn', 'content-length': '142', 'content-type': 'application/json', 'access-control-allow-origin': '*', 'access-control-allow-headers': '*', 'access-control-allow-methods': 'POST, PATCH, OPTIONS, DELETE, GET, PUT', 'access-control-max-age': '600', 'strict-transport-security': 'max-age=31536000; includeSubDomains', 'x-trace-id': '1946a1466de8b38541b51393f801fff0', 'x-region': 'us-central1', 'via': '1.1 google, 1.1 google', 'alt-svc': 'h3=\":443\"; ma=2592000,h3-29=\":443\"; ma=2592000'}, status_code: 401, body: {'detail': {'status': 'missing_permissions', 'message': 'The API key you used is missing the permission voices_write to execute this operation.'}}"
     ]
    }
   ],
   "source": [
    "elevenlabs = ElevenLabs(\n",
    "  api_key=os.getenv(\"ELEVENLABS_API_KEY\"),\n",
    ")\n",
    "\n",
    "elevenlabs.voices.delete(voice_id=\"9hpTsoJZGZdxxmZyoOPp\")"
   ]
  },
  {
   "cell_type": "code",
   "execution_count": 18,
   "id": "2ab74225",
   "metadata": {},
   "outputs": [
    {
     "ename": "ApiError",
     "evalue": "headers: {'date': 'Sun, 31 Aug 2025 12:34:43 GMT', 'server': 'uvicorn', 'content-length': '142', 'content-type': 'application/json', 'access-control-allow-origin': '*', 'access-control-allow-headers': '*', 'access-control-allow-methods': 'POST, PATCH, OPTIONS, DELETE, GET, PUT', 'access-control-max-age': '600', 'strict-transport-security': 'max-age=31536000; includeSubDomains', 'x-trace-id': '0924f36f1d56a137e8182296708803c5', 'x-region': 'us-central1', 'via': '1.1 google, 1.1 google', 'alt-svc': 'h3=\":443\"; ma=2592000,h3-29=\":443\"; ma=2592000'}, status_code: 400, body: {'detail': {'status': 'professional_voice_limit_reached', 'message': 'You have reached your maximum amount of professional voice slots (1 / 1).'}}",
     "output_type": "error",
     "traceback": [
      "\u001b[31m---------------------------------------------------------------------------\u001b[39m",
      "\u001b[31mApiError\u001b[39m                                  Traceback (most recent call last)",
      "\u001b[36mCell\u001b[39m\u001b[36m \u001b[39m\u001b[32mIn[18]\u001b[39m\u001b[32m, line 16\u001b[39m\n\u001b[32m     10\u001b[39m load_dotenv()\n\u001b[32m     12\u001b[39m elevenlabs = ElevenLabs(\n\u001b[32m     13\u001b[39m   api_key=os.getenv(\u001b[33m\"\u001b[39m\u001b[33mELEVENLABS_API_KEY\u001b[39m\u001b[33m\"\u001b[39m),\n\u001b[32m     14\u001b[39m )\n\u001b[32m---> \u001b[39m\u001b[32m16\u001b[39m voice = \u001b[43melevenlabs\u001b[49m\u001b[43m.\u001b[49m\u001b[43mvoices\u001b[49m\u001b[43m.\u001b[49m\u001b[43mpvc\u001b[49m\u001b[43m.\u001b[49m\u001b[43mcreate\u001b[49m\u001b[43m(\u001b[49m\n\u001b[32m     17\u001b[39m \u001b[43m    \u001b[49m\u001b[43mname\u001b[49m\u001b[43m=\u001b[49m\u001b[33;43m\"\u001b[39;49m\u001b[33;43mMy Professional Voice Clone\u001b[39;49m\u001b[33;43m\"\u001b[39;49m\u001b[43m,\u001b[49m\n\u001b[32m     18\u001b[39m \u001b[43m    \u001b[49m\u001b[43mlanguage\u001b[49m\u001b[43m=\u001b[49m\u001b[33;43m\"\u001b[39;49m\u001b[33;43men\u001b[39;49m\u001b[33;43m\"\u001b[39;49m\u001b[43m,\u001b[49m\n\u001b[32m     19\u001b[39m \u001b[43m    \u001b[49m\u001b[43mdescription\u001b[49m\u001b[43m=\u001b[49m\u001b[33;43m\"\u001b[39;49m\u001b[33;43mA professional voice clone of my voice\u001b[39;49m\u001b[33;43m\"\u001b[39;49m\n\u001b[32m     20\u001b[39m \u001b[43m)\u001b[49m\n\u001b[32m     22\u001b[39m \u001b[38;5;28mprint\u001b[39m(voice)\n",
      "\u001b[36mFile \u001b[39m\u001b[32mc:\\Users\\Lenovo\\Downloads\\project\\.venv\\Lib\\site-packages\\elevenlabs\\voices\\pvc\\client.py:81\u001b[39m, in \u001b[36mPvcClient.create\u001b[39m\u001b[34m(self, name, language, description, labels, request_options)\u001b[39m\n\u001b[32m     35\u001b[39m \u001b[38;5;28;01mdef\u001b[39;00m\u001b[38;5;250m \u001b[39m\u001b[34mcreate\u001b[39m(\n\u001b[32m     36\u001b[39m     \u001b[38;5;28mself\u001b[39m,\n\u001b[32m     37\u001b[39m     *,\n\u001b[32m   (...)\u001b[39m\u001b[32m     42\u001b[39m     request_options: typing.Optional[RequestOptions] = \u001b[38;5;28;01mNone\u001b[39;00m,\n\u001b[32m     43\u001b[39m ) -> AddVoiceResponseModel:\n\u001b[32m     44\u001b[39m \u001b[38;5;250m    \u001b[39m\u001b[33;03m\"\"\"\u001b[39;00m\n\u001b[32m     45\u001b[39m \u001b[33;03m    Creates a new PVC voice with metadata but no samples\u001b[39;00m\n\u001b[32m     46\u001b[39m \n\u001b[32m   (...)\u001b[39m\u001b[32m     79\u001b[39m \u001b[33;03m    )\u001b[39;00m\n\u001b[32m     80\u001b[39m \u001b[33;03m    \"\"\"\u001b[39;00m\n\u001b[32m---> \u001b[39m\u001b[32m81\u001b[39m     _response = \u001b[38;5;28;43mself\u001b[39;49m\u001b[43m.\u001b[49m\u001b[43m_raw_client\u001b[49m\u001b[43m.\u001b[49m\u001b[43mcreate\u001b[49m\u001b[43m(\u001b[49m\n\u001b[32m     82\u001b[39m \u001b[43m        \u001b[49m\u001b[43mname\u001b[49m\u001b[43m=\u001b[49m\u001b[43mname\u001b[49m\u001b[43m,\u001b[49m\u001b[43m \u001b[49m\u001b[43mlanguage\u001b[49m\u001b[43m=\u001b[49m\u001b[43mlanguage\u001b[49m\u001b[43m,\u001b[49m\u001b[43m \u001b[49m\u001b[43mdescription\u001b[49m\u001b[43m=\u001b[49m\u001b[43mdescription\u001b[49m\u001b[43m,\u001b[49m\u001b[43m \u001b[49m\u001b[43mlabels\u001b[49m\u001b[43m=\u001b[49m\u001b[43mlabels\u001b[49m\u001b[43m,\u001b[49m\u001b[43m \u001b[49m\u001b[43mrequest_options\u001b[49m\u001b[43m=\u001b[49m\u001b[43mrequest_options\u001b[49m\n\u001b[32m     83\u001b[39m \u001b[43m    \u001b[49m\u001b[43m)\u001b[49m\n\u001b[32m     84\u001b[39m     \u001b[38;5;28;01mreturn\u001b[39;00m _response.data\n",
      "\u001b[36mFile \u001b[39m\u001b[32mc:\\Users\\Lenovo\\Downloads\\project\\.venv\\Lib\\site-packages\\elevenlabs\\voices\\pvc\\raw_client.py:98\u001b[39m, in \u001b[36mRawPvcClient.create\u001b[39m\u001b[34m(self, name, language, description, labels, request_options)\u001b[39m\n\u001b[32m     96\u001b[39m \u001b[38;5;28;01mexcept\u001b[39;00m JSONDecodeError:\n\u001b[32m     97\u001b[39m     \u001b[38;5;28;01mraise\u001b[39;00m ApiError(status_code=_response.status_code, headers=\u001b[38;5;28mdict\u001b[39m(_response.headers), body=_response.text)\n\u001b[32m---> \u001b[39m\u001b[32m98\u001b[39m \u001b[38;5;28;01mraise\u001b[39;00m ApiError(status_code=_response.status_code, headers=\u001b[38;5;28mdict\u001b[39m(_response.headers), body=_response_json)\n",
      "\u001b[31mApiError\u001b[39m: headers: {'date': 'Sun, 31 Aug 2025 12:34:43 GMT', 'server': 'uvicorn', 'content-length': '142', 'content-type': 'application/json', 'access-control-allow-origin': '*', 'access-control-allow-headers': '*', 'access-control-allow-methods': 'POST, PATCH, OPTIONS, DELETE, GET, PUT', 'access-control-max-age': '600', 'strict-transport-security': 'max-age=31536000; includeSubDomains', 'x-trace-id': '0924f36f1d56a137e8182296708803c5', 'x-region': 'us-central1', 'via': '1.1 google, 1.1 google', 'alt-svc': 'h3=\":443\"; ma=2592000,h3-29=\":443\"; ma=2592000'}, status_code: 400, body: {'detail': {'status': 'professional_voice_limit_reached', 'message': 'You have reached your maximum amount of professional voice slots (1 / 1).'}}"
     ]
    }
   ],
   "source": [
    "# example.py\n",
    "import os\n",
    "import time\n",
    "import base64\n",
    "from contextlib import ExitStack\n",
    "from io import BytesIO\n",
    "from dotenv import load_dotenv\n",
    "from elevenlabs.client import ElevenLabs\n",
    "\n",
    "load_dotenv()\n",
    "\n",
    "elevenlabs = ElevenLabs(\n",
    "  api_key=os.getenv(\"ELEVENLABS_API_KEY\"),\n",
    ")\n",
    "\n",
    "voice = elevenlabs.voices.pvc.create(\n",
    "    name=\"My Professional Voice Clone\",\n",
    "    language=\"en\",\n",
    "    description=\"A professional voice clone of my voice\"\n",
    ")\n",
    "\n",
    "print(voice)\n"
   ]
  },
  {
   "cell_type": "code",
   "execution_count": 20,
   "id": "d9d36b5d",
   "metadata": {},
   "outputs": [
    {
     "name": "stdout",
     "output_type": "stream",
     "text": [
      "9hpTsoJZGZdxxmZyoOPp\n"
     ]
    }
   ],
   "source": [
    "print(voice.voice_id)"
   ]
  },
  {
   "cell_type": "code",
   "execution_count": null,
   "id": "7965b630",
   "metadata": {},
   "outputs": [
    {
     "ename": "ApiError",
     "evalue": "headers: {'date': 'Sun, 31 Aug 2025 12:17:16 GMT', 'server': 'uvicorn', 'content-length': '214', 'content-type': 'application/json', 'access-control-allow-origin': '*', 'access-control-allow-headers': '*', 'access-control-allow-methods': 'POST, PATCH, OPTIONS, DELETE, GET, PUT', 'access-control-max-age': '600', 'strict-transport-security': 'max-age=31536000; includeSubDomains', 'x-trace-id': 'a3c5abd27e9349a9e9442eaa9e5dfdab', 'x-region': 'us-central1', 'via': '1.1 google, 1.1 google', 'alt-svc': 'h3=\":443\"; ma=2592000,h3-29=\":443\"; ma=2592000'}, status_code: 400, body: {'detail': {'status': 'language_mismatch', 'message': 'The language of the audio samples does not match provided language. This can happen if the sample is low quality. Please try again with a higher quality sample.'}}",
     "output_type": "error",
     "traceback": [
      "\u001b[31m---------------------------------------------------------------------------\u001b[39m",
      "\u001b[31mApiError\u001b[39m                                  Traceback (most recent call last)",
      "\u001b[36mCell\u001b[39m\u001b[36m \u001b[39m\u001b[32mIn[7]\u001b[39m\u001b[32m, line 25\u001b[39m\n\u001b[32m     20\u001b[39m     \u001b[38;5;66;03m# Create a File object for the SDK\u001b[39;00m\n\u001b[32m     21\u001b[39m     files_to_upload.append(\n\u001b[32m     22\u001b[39m         BytesIO(audio_file.read())\n\u001b[32m     23\u001b[39m     )\n\u001b[32m---> \u001b[39m\u001b[32m25\u001b[39m samples = \u001b[43melevenlabs\u001b[49m\u001b[43m.\u001b[49m\u001b[43mvoices\u001b[49m\u001b[43m.\u001b[49m\u001b[43mpvc\u001b[49m\u001b[43m.\u001b[49m\u001b[43msamples\u001b[49m\u001b[43m.\u001b[49m\u001b[43mcreate\u001b[49m\u001b[43m(\u001b[49m\n\u001b[32m     26\u001b[39m \u001b[43m    \u001b[49m\u001b[43mvoice_id\u001b[49m\u001b[43m=\u001b[49m\u001b[43mvoice\u001b[49m\u001b[43m.\u001b[49m\u001b[43mvoice_id\u001b[49m\u001b[43m,\u001b[49m\n\u001b[32m     27\u001b[39m \u001b[43m    \u001b[49m\u001b[43mfiles\u001b[49m\u001b[43m=\u001b[49m\u001b[43mfiles_to_upload\u001b[49m\u001b[43m \u001b[49m\u001b[38;5;66;43;03m# Pass the list of File objects\u001b[39;49;00m\n\u001b[32m     28\u001b[39m \u001b[43m\u001b[49m\u001b[43m)\u001b[49m\n",
      "\u001b[36mFile \u001b[39m\u001b[32mc:\\Users\\Lenovo\\Downloads\\project\\.venv\\Lib\\site-packages\\elevenlabs\\voices\\pvc\\samples\\client.py:81\u001b[39m, in \u001b[36mSamplesClient.create\u001b[39m\u001b[34m(self, voice_id, files, remove_background_noise, request_options)\u001b[39m\n\u001b[32m     40\u001b[39m \u001b[38;5;28;01mdef\u001b[39;00m\u001b[38;5;250m \u001b[39m\u001b[34mcreate\u001b[39m(\n\u001b[32m     41\u001b[39m     \u001b[38;5;28mself\u001b[39m,\n\u001b[32m     42\u001b[39m     voice_id: \u001b[38;5;28mstr\u001b[39m,\n\u001b[32m   (...)\u001b[39m\u001b[32m     46\u001b[39m     request_options: typing.Optional[RequestOptions] = \u001b[38;5;28;01mNone\u001b[39;00m,\n\u001b[32m     47\u001b[39m ) -> typing.List[VoiceSample]:\n\u001b[32m     48\u001b[39m \u001b[38;5;250m    \u001b[39m\u001b[33;03m\"\"\"\u001b[39;00m\n\u001b[32m     49\u001b[39m \u001b[33;03m    Add audio samples to a PVC voice\u001b[39;00m\n\u001b[32m     50\u001b[39m \n\u001b[32m   (...)\u001b[39m\u001b[32m     79\u001b[39m \u001b[33;03m    )\u001b[39;00m\n\u001b[32m     80\u001b[39m \u001b[33;03m    \"\"\"\u001b[39;00m\n\u001b[32m---> \u001b[39m\u001b[32m81\u001b[39m     _response = \u001b[38;5;28;43mself\u001b[39;49m\u001b[43m.\u001b[49m\u001b[43m_raw_client\u001b[49m\u001b[43m.\u001b[49m\u001b[43mcreate\u001b[49m\u001b[43m(\u001b[49m\n\u001b[32m     82\u001b[39m \u001b[43m        \u001b[49m\u001b[43mvoice_id\u001b[49m\u001b[43m,\u001b[49m\u001b[43m \u001b[49m\u001b[43mfiles\u001b[49m\u001b[43m=\u001b[49m\u001b[43mfiles\u001b[49m\u001b[43m,\u001b[49m\u001b[43m \u001b[49m\u001b[43mremove_background_noise\u001b[49m\u001b[43m=\u001b[49m\u001b[43mremove_background_noise\u001b[49m\u001b[43m,\u001b[49m\u001b[43m \u001b[49m\u001b[43mrequest_options\u001b[49m\u001b[43m=\u001b[49m\u001b[43mrequest_options\u001b[49m\n\u001b[32m     83\u001b[39m \u001b[43m    \u001b[49m\u001b[43m)\u001b[49m\n\u001b[32m     84\u001b[39m     \u001b[38;5;28;01mreturn\u001b[39;00m _response.data\n",
      "\u001b[36mFile \u001b[39m\u001b[32mc:\\Users\\Lenovo\\Downloads\\project\\.venv\\Lib\\site-packages\\elevenlabs\\voices\\pvc\\samples\\raw_client.py:94\u001b[39m, in \u001b[36mRawSamplesClient.create\u001b[39m\u001b[34m(self, voice_id, files, remove_background_noise, request_options)\u001b[39m\n\u001b[32m     92\u001b[39m \u001b[38;5;28;01mexcept\u001b[39;00m JSONDecodeError:\n\u001b[32m     93\u001b[39m     \u001b[38;5;28;01mraise\u001b[39;00m ApiError(status_code=_response.status_code, headers=\u001b[38;5;28mdict\u001b[39m(_response.headers), body=_response.text)\n\u001b[32m---> \u001b[39m\u001b[32m94\u001b[39m \u001b[38;5;28;01mraise\u001b[39;00m ApiError(status_code=_response.status_code, headers=\u001b[38;5;28mdict\u001b[39m(_response.headers), body=_response_json)\n",
      "\u001b[31mApiError\u001b[39m: headers: {'date': 'Sun, 31 Aug 2025 12:17:16 GMT', 'server': 'uvicorn', 'content-length': '214', 'content-type': 'application/json', 'access-control-allow-origin': '*', 'access-control-allow-headers': '*', 'access-control-allow-methods': 'POST, PATCH, OPTIONS, DELETE, GET, PUT', 'access-control-max-age': '600', 'strict-transport-security': 'max-age=31536000; includeSubDomains', 'x-trace-id': 'a3c5abd27e9349a9e9442eaa9e5dfdab', 'x-region': 'us-central1', 'via': '1.1 google, 1.1 google', 'alt-svc': 'h3=\":443\"; ma=2592000,h3-29=\":443\"; ma=2592000'}, status_code: 400, body: {'detail': {'status': 'language_mismatch', 'message': 'The language of the audio samples does not match provided language. This can happen if the sample is low quality. Please try again with a higher quality sample.'}}"
     ]
    }
   ],
   "source": [
    "# Define the list of file paths explicitly\n",
    "# Replace with the paths to your audio and/or video files.\n",
    "# The more files you add, the better the clone will be.\n",
    "sample_file_paths = [\n",
    "    r\"C:\\Users\\Lenovo\\Downloads\\project\\sayed_clips\\sayed_01.wav\",\n",
    "    r\"C:\\Users\\Lenovo\\Downloads\\project\\sayed_clips\\sayed_02.wav\",\n",
    "    r\"C:\\Users\\Lenovo\\Downloads\\project\\sayed_clips\\sayed_03.wav\"\n",
    "]\n",
    "\n",
    "samples = None\n",
    "\n",
    "files_to_upload = []\n",
    "# Use ExitStack to manage multiple open files\n",
    "with ExitStack() as stack:\n",
    "    for filepath in sample_file_paths:\n",
    "        # Open each file and add it to the stack\n",
    "        audio_file = stack.enter_context(open(filepath, \"rb\"))\n",
    "        filename = os.path.basename(filepath)\n",
    "\n",
    "        # Create a File object for the SDK\n",
    "        files_to_upload.append(\n",
    "            BytesIO(audio_file.read())\n",
    "        )\n",
    "\n",
    "    samples = elevenlabs.voices.pvc.samples.create(\n",
    "        voice_id=voice.voice_id,\n",
    "        files=files_to_upload # Pass the list of File objects\n",
    "    )\n"
   ]
  },
  {
   "cell_type": "code",
   "execution_count": null,
   "id": "ed680f04",
   "metadata": {},
   "outputs": [],
   "source": [
    "sample_ids_to_check = []\n",
    "for sample in samples:\n",
    "    if sample.sample_id:\n",
    "        print(f\"Starting separation for sample: {sample.sample_id}\")\n",
    "        elevenlabs.voices.pvc.samples.speakers.separate(\n",
    "            voice_id=voice.voice_id,\n",
    "            sample_id=sample.sample_id\n",
    "        )\n",
    "        sample_ids_to_check.append(sample.sample_id)\n",
    "\n",
    "while sample_ids_to_check:\n",
    "    # Create a copy of the list to iterate over, so we can remove items from the original\n",
    "    ids_in_batch = list(sample_ids_to_check)\n",
    "    for sample_id in ids_in_batch:\n",
    "        status_response = elevenlabs.voices.pvc.samples.speakers.get(\n",
    "            voice_id=voice.voice_id,\n",
    "            sample_id=sample_id\n",
    "        )\n",
    "        status = status_response.status\n",
    "        print(f\"Sample {sample_id} status: {status}\")\n",
    "        if status == \"completed\" or status == \"failed\":\n",
    "            sample_ids_to_check.remove(sample_id)\n",
    "\n",
    "    if sample_ids_to_check:\n",
    "        # Wait before the next poll cycle\n",
    "        time.sleep(5) # Wait for 5 seconds\n",
    "\n",
    "print(\"All samples have been processed or removed from polling.\")\n"
   ]
  }
 ],
 "metadata": {
  "kernelspec": {
   "display_name": ".venv",
   "language": "python",
   "name": "python3"
  },
  "language_info": {
   "codemirror_mode": {
    "name": "ipython",
    "version": 3
   },
   "file_extension": ".py",
   "mimetype": "text/x-python",
   "name": "python",
   "nbconvert_exporter": "python",
   "pygments_lexer": "ipython3",
   "version": "3.11.0"
  }
 },
 "nbformat": 4,
 "nbformat_minor": 5
}
