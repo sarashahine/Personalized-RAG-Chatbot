{
 "cells": [
  {
   "cell_type": "code",
   "execution_count": 10,
   "id": "1f3c133f",
   "metadata": {},
   "outputs": [],
   "source": [
    "import requests\n",
    "\n",
    "cookies = {\n",
    "    'csrftoken': 'oBTCFQmOj-QFyKPBrnznSc',\n",
    "    'ds_user_id': '36914364034',\n",
    "    'rur': '\"RVA\\\\05436914364034\\\\0541789114719:01feb91c130ad6bbce38c6bd6fe45d810c5c092360f84c5a5a5e340092f103c8edb6387e\"',\n",
    "    'dpr': '1',\n",
    "    'wd': '809x721',\n",
    "    'sessionid': '36914364034%3ArUErdD9qoNgZuW%3A18%3AAYgvd2sxai_NB-ftnx3jvW0_xt60KGaCUEcIkJ5BoQ',\n",
    "    'mid': 'aMJ6yQAEAAHre5tnKT2VzajfSFqE',\n",
    "    'ig_did': 'F88A0A1F-954F-4789-9021-4B4B03B1ED68',\n",
    "    'datr': 'MBmpZ4aIAVJIxod3VpLGtVF-',\n",
    "    'ig_nrcb': '1',\n",
    "    'ps_l': '1',\n",
    "    'ps_n': '1',\n",
    "}\n",
    "\n",
    "headers = {\n",
    "    'Referer': 'https://www.instagram.com/',\n",
    "    # 'Cookie': 'csrftoken=oBTCFQmOj-QFyKPBrnznSc; ds_user_id=36914364034; rur=\"RVA\\\\05436914364034\\\\0541789114719:01feb91c130ad6bbce38c6bd6fe45d810c5c092360f84c5a5a5e340092f103c8edb6387e\"; dpr=1; wd=809x721; sessionid=36914364034%3ArUErdD9qoNgZuW%3A18%3AAYgvd2sxai_NB-ftnx3jvW0_xt60KGaCUEcIkJ5BoQ; mid=aMJ6yQAEAAHre5tnKT2VzajfSFqE; ig_did=F88A0A1F-954F-4789-9021-4B4B03B1ED68; datr=MBmpZ4aIAVJIxod3VpLGtVF-; ig_nrcb=1; ps_l=1; ps_n=1',\n",
    "    'User-Agent': 'Mozilla/5.0 (Macintosh; Intel Mac OS X 10_15_7) AppleWebKit/605.1.15 (KHTML, like Gecko) Version/16.6.1 Safari/605.1.15',\n",
    "    'Host': 'www.instagram.com',\n",
    "    'Origin': 'https://www.instagram.com',\n",
    "    'Sec-Fetch-Dest': 'empty',\n",
    "    'Sec-Fetch-Site': 'same-origin',\n",
    "    # 'Content-Length': '2211',\n",
    "    'Connection': 'keep-alive',\n",
    "    'Accept-Language': 'en-us',\n",
    "    'Accept': '*/*',\n",
    "    'Content-Type': 'application/x-www-form-urlencoded',\n",
    "    # 'Accept-Encoding': 'gzip, deflate, br',\n",
    "    'Sec-Fetch-Mode': 'cors',\n",
    "    'X-IG-App-ID': '936619743392459',\n",
    "    'X-FB-LSD': '35IocMMLehUZI6IMWiW2SN',\n",
    "    'X-ASBD-ID': '359341',\n",
    "    'X-CSRFToken': 'oBTCFQmOj-QFyKPBrnznSc',\n",
    "    'X-BLOKS-VERSION-ID': '64f02abc184fb0d9135db12e85e451a3be71c64f7231c320a09e7df0ef1bdf6d',\n",
    "    'X-FB-Friendly-Name': 'useShouldHideLandingUpsellForCannesQuery',\n",
    "    'X-Root-Field-Name': 'fetch__XDTUserDict',\n",
    "}\n",
    "\n",
    "data = {\n",
    "    'av': '17841436841044295',\n",
    "    '__d': 'www',\n",
    "    '__user': '0',\n",
    "    '__a': '1',\n",
    "    '__req': '2x',\n",
    "    '__hs': '20342.HYP:instagram_web_pkg.2.1...0',\n",
    "    'dpr': '2',\n",
    "    '__ccg': 'GOOD',\n",
    "    '__rev': '1026982659',\n",
    "    '__s': '6960y4:8jpwno:me42va',\n",
    "    '__hsi': '7548733454836879153',\n",
    "    '__dyn': '7xeUjG1mxu1syaxG4Vp41twWwIxu13wvoKewSAwHwNw9G2Saxa0DU6u3y4o0B-q1ew6ywMwto2awgo9oO0n24oaEnxO1ywOwv89k2C1Fwc60AEC1TwQzXw8W58jwGzEaE2iwNwh8lwuEjUlwhEe88o5i7U1oEbUGdG1QwTU9UaQ0z8c86-3u2WE5B08-269wr86C1mgcEed6hEhK2OubK5V89FbxG1oxe6UaU3cyVrx60hK798pyFEaU4ei16zo',\n",
    "    '__csr': 'giMpgF5EpktsizEOfRuygBbb8Dtnd9tkySbJ2aSKIzmAmqKhUGZ5QyQDilbGlkpsCh5jFiAStp_Sm_XXAFda8GqBi-LAGKiLBmmJdpCECmfy9vzp9ECfjy-O2u-Vk9HXJ4y5zQozm-BCSF8SGKjCWKBGVLg-bKaGbBVeV49G9DBF3FXAV-Ty4hVoWESqdhGVeumaAxqE-t5AG4oozo01nlUdo4bgxa2afppbmkqbwICQbwpUvxC1rg6-9wqUK5o2caN3g0x10pFS9w4hhf9yoK11xK2_f816w67w3qo1vvzkbIGxql0kUpzCL9w234q8gtF05-a0l23nG1mx3onwIDwTxm0micxwwgwEwIwagwhDC9xpwnrdwaB07uwaHc0Lk3ilo35g5oyxe1qo0S60Go88pw9q1Dwb-0BVEb_wJw3242t1222u4U0JW01eqhEa4BBCxC0-qxyE0gdw9Ch3o5Hoy3i0-U2Jw3k40ck8EaoGJ0Zw7BCAw3uobrxecyuqBRw',\n",
    "    '__hsdp': 'g8YclvcNAAWsdjrHqj6MgF3i24bYAzqt9gP5hRh2tNcTA10JiE2N5mDhi88Ibgx31bAyCoHmzChhC4V6kAGycF0lpTxiJ4gyaVu1baUCfo-azohymFag464HgDwkoG1C4z8y1JwwwwwVAyosxG0wUXXKawNxN06Uwca1nyE2Pg7u0ou0jm0JEfo2HyU9o7nwkUuw8K0H83vxe0Podo2syUBw4bwQwi8bUSOU3ywgo882ewMw',\n",
    "    '__hblp': '0Qgco8EcUaporyELzpEW7EKuuifK0AU4F0ABK21a5oKA5e1dixOEnAqgcotjF6UG6WK-p7Qbx6awwyA9zpbgDmbhEboHVQ48lz98gxaFoly8jBKUoyo8FoKK9Am9CGuEvCyahp8B-m2K4olBwg8kGb-UWew_mawdO221uxG2WK5oCu1mwBxSm4VQ7omyE4PwloV0tU4i0xoiwxwh84a0jmUK0BUW3S9whU-6U9FEKfK9DCwlE9E-229yXxG3m7Udpo9HwuUkxa1uyErwNxe686GdwVU88kxqm2u2mrxpCBGbymbwfeVUcQ2m4FVUgxWdI-26229wCU8o4yaxu7GzEV1-4Wxq6oO6bwxyE',\n",
    "    '__sjsp': 'g8YclvcOP9PFMRdKJFcr12Ad88gLOidFQB3cl7l4dn4Q_A10JiE2N5mLhi88Ibgx318yapyJqep56ojApiiG8OA1lwwAgW4E5-fo-0x80xK0Kof8',\n",
    "    '__comet_req': '7',\n",
    "    'fb_dtsg': 'NAfuDtFLi3Hw4M3aks2ZmkgIJzVxB-BZ1XZ_CPx9yO3wcJeEfvn0GYw:17853828322093762:1757575932',\n",
    "    'jazoest': '26294',\n",
    "    'lsd': '35IocMMLehUZI6IMWiW2SN',\n",
    "    '__spin_r': '1026982659',\n",
    "    '__spin_b': 'trunk',\n",
    "    '__spin_t': '1757576469',\n",
    "    '__crn': 'comet.igweb.PolarisFeedRoute',\n",
    "    'fb_api_caller_class': 'RelayModern',\n",
    "    'fb_api_req_friendly_name': 'useShouldHideLandingUpsellForCannesQuery',\n",
    "    'variables': '{\"enable_for_logged_out\":false,\"id\":\"77072919245\",\"render_surface\":\"PROFILE\"}',\n",
    "    'server_timestamps': 'true',\n",
    "    'doc_id': '23903405072694049',\n",
    "}\n",
    "\n",
    "response = requests.post('https://www.instagram.com/graphql/query', cookies=cookies, headers=headers, data=data)"
   ]
  },
  {
   "cell_type": "code",
   "execution_count": 4,
   "id": "6a46fb5e",
   "metadata": {},
   "outputs": [
    {
     "name": "stdout",
     "output_type": "stream",
     "text": [
      "Status code: 200\n",
      "Response text: for (;;);{\"payload\":{\"payloads\":{\"/stories/unknown7272727228/3719042516474708417/?r=1\":{\"error\":false,\"result\":{\"type\":\"route_definition\",\"exports\":{\"actorID\":\"17841436841044295\",\"rootView\":{\"allResources\":[{\"__jsr\":\"PolarisStoriesV3Root.entrypoint\"},{\"__jsr\":\"PolarisStoriesV3Root.react\"}],\"resource\":{\"__jsr\":\"PolarisStoriesV3Root.react\"},\"props\":{\"page_logging\":{\"name\":\"StoriesPage\",\"params\":{\"page_id\":\"StoriesPage_77072919245\"}},\"user_id\":\"77072919245\",\"preload\":false},\"entryPoint\":{\"__dr\":\"Po\n"
     ]
    }
   ],
   "source": [
    "print(f\"Status code: {response.status_code}\")\n",
    "print(f\"Response text: {response.text[:500]}\")  # Print first 500 chars\n"
   ]
  },
  {
   "cell_type": "code",
   "execution_count": 11,
   "id": "922ff60b",
   "metadata": {},
   "outputs": [
    {
     "name": "stdout",
     "output_type": "stream",
     "text": [
      "JSON successfully saved to output.json\n"
     ]
    }
   ],
   "source": [
    "import json\n",
    "\n",
    "# Strip the anti-JSON-hijacking prefix\n",
    "raw_text = response.text\n",
    "json_prefix = \"for (;;);\"\n",
    "\n",
    "if raw_text.startswith(json_prefix):\n",
    "    raw_text = raw_text[len(json_prefix):]\n",
    "\n",
    "try:\n",
    "    data = json.loads(raw_text)\n",
    "    with open(\"output.json\", \"w\", encoding=\"utf-8\") as f:\n",
    "        json.dump(data, f, indent=2)\n",
    "    print(\"JSON successfully saved to output.json\")\n",
    "except json.JSONDecodeError as e:\n",
    "    print(f\"Failed to parse JSON: {e}\")\n",
    "    with open(\"output_fallback.html\", \"w\", encoding=\"utf-8\") as f:\n",
    "        f.write(response.text)\n",
    "    print(\"Saved raw response to output_fallback.html\")\n"
   ]
  }
 ],
 "metadata": {
  "kernelspec": {
   "display_name": ".venv",
   "language": "python",
   "name": "python3"
  },
  "language_info": {
   "codemirror_mode": {
    "name": "ipython",
    "version": 3
   },
   "file_extension": ".py",
   "mimetype": "text/x-python",
   "name": "python",
   "nbconvert_exporter": "python",
   "pygments_lexer": "ipython3",
   "version": "3.11.9"
  }
 },
 "nbformat": 4,
 "nbformat_minor": 5
}
