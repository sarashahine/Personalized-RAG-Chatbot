{
 "cells": [
  {
   "cell_type": "code",
   "execution_count": null,
   "id": "83e731c7",
   "metadata": {},
   "outputs": [
    {
     "data": {
      "text/plain": [
       "0"
      ]
     },
     "execution_count": 1,
     "metadata": {},
     "output_type": "execute_result"
    }
   ],
   "source": [
    "from gtts import gTTS\n",
    "import os\n",
    "\n",
    "text = \"شو هي الأسماء اللي علمها الله سبحانه وتعالى للنبي آدم؟\"\n",
    "\n",
    "# Create TTS object\n",
    "tts = gTTS(text=text, lang=\"ar\")\n",
    "\n",
    "tts.save(\"output.mp3\")\n",
    "\n",
    "os.system(\"start output.mp3\")"
   ]
  },
  {
   "cell_type": "code",
   "execution_count": null,
   "id": "c5a802b8",
   "metadata": {},
   "outputs": [
    {
     "name": "stdout",
     "output_type": "stream",
     "text": [
      "Audio saved as output2.mp3\n"
     ]
    },
    {
     "ename": "ModuleNotFoundError",
     "evalue": "No module named 'playsound'",
     "output_type": "error",
     "traceback": [
      "\u001b[31m---------------------------------------------------------------------------\u001b[39m",
      "\u001b[31mModuleNotFoundError\u001b[39m                       Traceback (most recent call last)",
      "\u001b[36mCell\u001b[39m\u001b[36m \u001b[39m\u001b[32mIn[4]\u001b[39m\u001b[32m, line 31\u001b[39m\n\u001b[32m     28\u001b[39m \u001b[38;5;28mprint\u001b[39m(\u001b[33m\"\u001b[39m\u001b[33mAudio saved as output2.mp3\u001b[39m\u001b[33m\"\u001b[39m)\n\u001b[32m     30\u001b[39m \u001b[38;5;66;03m# Play it\u001b[39;00m\n\u001b[32m---> \u001b[39m\u001b[32m31\u001b[39m \u001b[38;5;28;01mimport\u001b[39;00m\u001b[38;5;250m \u001b[39m\u001b[34;01mplaysound\u001b[39;00m\n\u001b[32m     32\u001b[39m playsound.playsound(\u001b[33m\"\u001b[39m\u001b[33moutput2.mp3\u001b[39m\u001b[33m\"\u001b[39m)\n",
      "\u001b[31mModuleNotFoundError\u001b[39m: No module named 'playsound'"
     ]
    }
   ],
   "source": [
    "from dotenv import load_dotenv\n",
    "from elevenlabs.client import ElevenLabs\n",
    "from elevenlabs import play\n",
    "import os\n",
    "\n",
    "load_dotenv()\n",
    "\n",
    "elevenlabs = ElevenLabs(\n",
    "  api_key=os.getenv(\"ELEVENLABS_API_KEY\"),\n",
    ")\n",
    "\n",
    "audio = elevenlabs.text_to_speech.convert(\n",
    "    text=\"شو هي الأسماء اللي علمها الله سبحانه وتعالى للنبي آدم؟\",\n",
    "    voice_id=\"JBFqnCBsd6RMkjVDRZzb\",\n",
    "    model_id=\"eleven_multilingual_v2\",\n",
    "    output_format=\"mp3_44100_128\",\n",
    ")\n",
    "\n",
    "from pathlib import Path\n",
    "\n",
    "# Convert generator to bytes\n",
    "audio_bytes = b\"\".join(audio)\n",
    "\n",
    "with open(\"output2.mp3\", \"wb\") as f:\n",
    "    f.write(audio_bytes)\n",
    "\n",
    "print(\"Audio saved as output2.mp3\")\n"
   ]
  },
  {
   "cell_type": "code",
   "execution_count": 1,
   "id": "2ab74225",
   "metadata": {},
   "outputs": [
    {
     "name": "stdout",
     "output_type": "stream",
     "text": [
      "voice_id='0kMo1XiwRkzMPV4kNcGU'\n"
     ]
    }
   ],
   "source": [
    "# example.py\n",
    "import os\n",
    "import time\n",
    "import base64\n",
    "from contextlib import ExitStack\n",
    "from io import BytesIO\n",
    "from dotenv import load_dotenv\n",
    "from elevenlabs.client import ElevenLabs\n",
    "\n",
    "load_dotenv()\n",
    "\n",
    "elevenlabs = ElevenLabs(\n",
    "  api_key=os.getenv(\"ELEVENLABS_API_KEY\"),\n",
    ")\n",
    "\n",
    "voice = elevenlabs.voices.pvc.create(\n",
    "    name=\"Al-Sayed Voice Clone\",\n",
    "    language=\"ar\",\n",
    "    description=\"A professional voice clone of Al-Sayed Hashem voice\"\n",
    ")\n",
    "\n",
    "print(voice)\n"
   ]
  },
  {
   "cell_type": "code",
   "execution_count": 2,
   "id": "d9d36b5d",
   "metadata": {},
   "outputs": [
    {
     "name": "stdout",
     "output_type": "stream",
     "text": [
      "0kMo1XiwRkzMPV4kNcGU\n"
     ]
    }
   ],
   "source": [
    "print(voice.voice_id)"
   ]
  },
  {
   "cell_type": "code",
   "execution_count": 5,
   "id": "7965b630",
   "metadata": {},
   "outputs": [],
   "source": [
    "# Define the list of file paths explicitly\n",
    "# Replace with the paths to your audio and/or video files.\n",
    "# The more files you add, the better the clone will be.\n",
    "sample_file_paths = [\n",
    "    r\"C:\\Users\\Lenovo\\Downloads\\project\\sayed_clips\\sayed_01.wav\"\n",
    "]\n",
    "\n",
    "samples = None\n",
    "\n",
    "files_to_upload = []\n",
    "# Use ExitStack to manage multiple open files\n",
    "with ExitStack() as stack:\n",
    "    for filepath in sample_file_paths:\n",
    "        # Open each file and add it to the stack\n",
    "        audio_file = stack.enter_context(open(filepath, \"rb\"))\n",
    "        filename = os.path.basename(filepath)\n",
    "\n",
    "        # Create a File object for the SDK\n",
    "        files_to_upload.append(\n",
    "            BytesIO(audio_file.read())\n",
    "        )\n",
    "\n",
    "    samples = elevenlabs.voices.pvc.samples.create(\n",
    "        voice_id=voice.voice_id,\n",
    "        files=files_to_upload # Pass the list of File objects\n",
    "    )\n"
   ]
  },
  {
   "cell_type": "code",
   "execution_count": 6,
   "id": "ed680f04",
   "metadata": {},
   "outputs": [
    {
     "name": "stdout",
     "output_type": "stream",
     "text": [
      "Starting separation for sample: tdhQuWNmQ0tMIX3jfDNj\n",
      "Sample tdhQuWNmQ0tMIX3jfDNj status: pending\n",
      "Sample tdhQuWNmQ0tMIX3jfDNj status: completed\n",
      "All samples have been processed or removed from polling.\n"
     ]
    }
   ],
   "source": [
    "sample_ids_to_check = []\n",
    "for sample in samples:\n",
    "    if sample.sample_id:\n",
    "        print(f\"Starting separation for sample: {sample.sample_id}\")\n",
    "        elevenlabs.voices.pvc.samples.speakers.separate(\n",
    "            voice_id=voice.voice_id,\n",
    "            sample_id=sample.sample_id\n",
    "        )\n",
    "        sample_ids_to_check.append(sample.sample_id)\n",
    "\n",
    "while sample_ids_to_check:\n",
    "    # Create a copy of the list to iterate over, so we can remove items from the original\n",
    "    ids_in_batch = list(sample_ids_to_check)\n",
    "    for sample_id in ids_in_batch:\n",
    "        status_response = elevenlabs.voices.pvc.samples.speakers.get(\n",
    "            voice_id=voice.voice_id,\n",
    "            sample_id=sample_id\n",
    "        )\n",
    "        status = status_response.status\n",
    "        print(f\"Sample {sample_id} status: {status}\")\n",
    "        if status == \"completed\" or status == \"failed\":\n",
    "            sample_ids_to_check.remove(sample_id)\n",
    "\n",
    "    if sample_ids_to_check:\n",
    "        # Wait before the next poll cycle\n",
    "        time.sleep(5) # Wait for 5 seconds\n",
    "\n",
    "print(\"All samples have been processed or removed from polling.\")\n"
   ]
  },
  {
   "cell_type": "code",
   "execution_count": 9,
   "id": "31731213",
   "metadata": {},
   "outputs": [],
   "source": [
    "# Get the list of samples from the voice created in Step 3\n",
    "voice = elevenlabs.voices.get(voice_id=\"0kMo1XiwRkzMPV4kNcGU\")\n",
    "\n",
    "samples = voice.samples\n",
    "\n",
    "# Loop over each sample and save the audio for each speaker to a file\n",
    "speaker_audio_output_dir = \"path/to/speakers/\"\n",
    "if not os.path.exists(speaker_audio_output_dir):\n",
    "    os.makedirs(speaker_audio_output_dir)\n",
    "\n",
    "for sample in samples:\n",
    "    speaker_info = elevenlabs.voices.pvc.samples.speakers.get(\n",
    "        voice_id=voice.voice_id,\n",
    "        sample_id=sample.sample_id\n",
    "    )\n",
    "\n",
    "    # Proceed only if separation is actually complete\n",
    "    if getattr(speaker_info, 'status', 'unknown') != \"completed\":\n",
    "        continue\n",
    "\n",
    "    if hasattr(speaker_info, 'speakers') and speaker_info.speakers:\n",
    "        speaker_list = speaker_info.speakers\n",
    "        if isinstance(speaker_info.speakers, dict):\n",
    "            speaker_list = speaker_info.speakers.values()\n",
    "\n",
    "        for speaker in speaker_list:\n",
    "            audio_response = elevenlabs.voices.pvc.samples.speakers.audio.get(\n",
    "                voice_id=voice.voice_id,\n",
    "                sample_id=sample.sample_id,\n",
    "                speaker_id=speaker.speaker_id\n",
    "            )\n",
    "\n",
    "            audio_base64 = audio_response.audio_base_64\n",
    "            audio_data = base64.b64decode(audio_base64)\n",
    "            output_filename = os.path.join(speaker_audio_output_dir, f\"sample_{sample.sample_id}_speaker_{speaker.speaker_id}.mp3\")\n",
    "\n",
    "            with open(output_filename, \"wb\") as f:\n",
    "                f.write(audio_data)\n"
   ]
  },
  {
   "cell_type": "code",
   "execution_count": 10,
   "id": "5da2e7c1",
   "metadata": {},
   "outputs": [
    {
     "ename": "ApiError",
     "evalue": "headers: {'date': 'Wed, 03 Sep 2025 07:57:37 GMT', 'server': 'uvicorn', 'content-length': '130', 'content-type': 'application/json', 'access-control-allow-origin': '*', 'access-control-allow-headers': '*', 'access-control-allow-methods': 'POST, PATCH, OPTIONS, DELETE, GET, PUT', 'access-control-max-age': '600', 'strict-transport-security': 'max-age=31536000; includeSubDomains', 'x-trace-id': 'b3f44a7e4ea252b12228dbe9ada48f28', 'x-region': 'us-central1', 'via': '1.1 google, 1.1 google', 'alt-svc': 'h3=\":443\"; ma=2592000,h3-29=\":443\"; ma=2592000'}, status_code: 400, body: {'detail': {'status': 'speaker_separation_incomplete', 'message': 'Speaker separation must be completed before selecting a speaker.'}}",
     "output_type": "error",
     "traceback": [
      "\u001b[31m---------------------------------------------------------------------------\u001b[39m",
      "\u001b[31mApiError\u001b[39m                                  Traceback (most recent call last)",
      "\u001b[36mCell\u001b[39m\u001b[36m \u001b[39m\u001b[32mIn[10]\u001b[39m\u001b[32m, line 1\u001b[39m\n\u001b[32m----> \u001b[39m\u001b[32m1\u001b[39m \u001b[43melevenlabs\u001b[49m\u001b[43m.\u001b[49m\u001b[43mvoices\u001b[49m\u001b[43m.\u001b[49m\u001b[43mpvc\u001b[49m\u001b[43m.\u001b[49m\u001b[43msamples\u001b[49m\u001b[43m.\u001b[49m\u001b[43mupdate\u001b[49m\u001b[43m(\u001b[49m\n\u001b[32m      2\u001b[39m \u001b[43m    \u001b[49m\u001b[43mvoice_id\u001b[49m\u001b[43m=\u001b[49m\u001b[43mvoice\u001b[49m\u001b[43m.\u001b[49m\u001b[43mvoice_id\u001b[49m\u001b[43m,\u001b[49m\n\u001b[32m      3\u001b[39m \u001b[43m    \u001b[49m\u001b[43msample_id\u001b[49m\u001b[43m=\u001b[49m\u001b[43msample\u001b[49m\u001b[43m.\u001b[49m\u001b[43msample_id\u001b[49m\u001b[43m,\u001b[49m\n\u001b[32m      4\u001b[39m \u001b[43m    \u001b[49m\u001b[43mselected_speaker_ids\u001b[49m\u001b[43m=\u001b[49m\u001b[43m[\u001b[49m\u001b[43mspeaker\u001b[49m\u001b[43m.\u001b[49m\u001b[43mspeaker_id\u001b[49m\u001b[43m]\u001b[49m\n\u001b[32m      5\u001b[39m \u001b[43m)\u001b[49m\n",
      "\u001b[36mFile \u001b[39m\u001b[32mc:\\Users\\Lenovo\\Downloads\\project\\.venv\\Lib\\site-packages\\elevenlabs\\voices\\pvc\\samples\\client.py:140\u001b[39m, in \u001b[36mSamplesClient.update\u001b[39m\u001b[34m(self, voice_id, sample_id, remove_background_noise, selected_speaker_ids, trim_start_time, trim_end_time, request_options)\u001b[39m\n\u001b[32m     86\u001b[39m \u001b[38;5;28;01mdef\u001b[39;00m\u001b[38;5;250m \u001b[39m\u001b[34mupdate\u001b[39m(\n\u001b[32m     87\u001b[39m     \u001b[38;5;28mself\u001b[39m,\n\u001b[32m     88\u001b[39m     voice_id: \u001b[38;5;28mstr\u001b[39m,\n\u001b[32m   (...)\u001b[39m\u001b[32m     95\u001b[39m     request_options: typing.Optional[RequestOptions] = \u001b[38;5;28;01mNone\u001b[39;00m,\n\u001b[32m     96\u001b[39m ) -> AddVoiceResponseModel:\n\u001b[32m     97\u001b[39m \u001b[38;5;250m    \u001b[39m\u001b[33;03m\"\"\"\u001b[39;00m\n\u001b[32m     98\u001b[39m \u001b[33;03m    Update a PVC voice sample - apply noise removal, or select speaker.\u001b[39;00m\n\u001b[32m     99\u001b[39m \n\u001b[32m   (...)\u001b[39m\u001b[32m    138\u001b[39m \u001b[33;03m    )\u001b[39;00m\n\u001b[32m    139\u001b[39m \u001b[33;03m    \"\"\"\u001b[39;00m\n\u001b[32m--> \u001b[39m\u001b[32m140\u001b[39m     _response = \u001b[38;5;28;43mself\u001b[39;49m\u001b[43m.\u001b[49m\u001b[43m_raw_client\u001b[49m\u001b[43m.\u001b[49m\u001b[43mupdate\u001b[49m\u001b[43m(\u001b[49m\n\u001b[32m    141\u001b[39m \u001b[43m        \u001b[49m\u001b[43mvoice_id\u001b[49m\u001b[43m,\u001b[49m\n\u001b[32m    142\u001b[39m \u001b[43m        \u001b[49m\u001b[43msample_id\u001b[49m\u001b[43m,\u001b[49m\n\u001b[32m    143\u001b[39m \u001b[43m        \u001b[49m\u001b[43mremove_background_noise\u001b[49m\u001b[43m=\u001b[49m\u001b[43mremove_background_noise\u001b[49m\u001b[43m,\u001b[49m\n\u001b[32m    144\u001b[39m \u001b[43m        \u001b[49m\u001b[43mselected_speaker_ids\u001b[49m\u001b[43m=\u001b[49m\u001b[43mselected_speaker_ids\u001b[49m\u001b[43m,\u001b[49m\n\u001b[32m    145\u001b[39m \u001b[43m        \u001b[49m\u001b[43mtrim_start_time\u001b[49m\u001b[43m=\u001b[49m\u001b[43mtrim_start_time\u001b[49m\u001b[43m,\u001b[49m\n\u001b[32m    146\u001b[39m \u001b[43m        \u001b[49m\u001b[43mtrim_end_time\u001b[49m\u001b[43m=\u001b[49m\u001b[43mtrim_end_time\u001b[49m\u001b[43m,\u001b[49m\n\u001b[32m    147\u001b[39m \u001b[43m        \u001b[49m\u001b[43mrequest_options\u001b[49m\u001b[43m=\u001b[49m\u001b[43mrequest_options\u001b[49m\u001b[43m,\u001b[49m\n\u001b[32m    148\u001b[39m \u001b[43m    \u001b[49m\u001b[43m)\u001b[49m\n\u001b[32m    149\u001b[39m     \u001b[38;5;28;01mreturn\u001b[39;00m _response.data\n",
      "\u001b[36mFile \u001b[39m\u001b[32mc:\\Users\\Lenovo\\Downloads\\project\\.venv\\Lib\\site-packages\\elevenlabs\\voices\\pvc\\samples\\raw_client.py:177\u001b[39m, in \u001b[36mRawSamplesClient.update\u001b[39m\u001b[34m(self, voice_id, sample_id, remove_background_noise, selected_speaker_ids, trim_start_time, trim_end_time, request_options)\u001b[39m\n\u001b[32m    175\u001b[39m \u001b[38;5;28;01mexcept\u001b[39;00m JSONDecodeError:\n\u001b[32m    176\u001b[39m     \u001b[38;5;28;01mraise\u001b[39;00m ApiError(status_code=_response.status_code, headers=\u001b[38;5;28mdict\u001b[39m(_response.headers), body=_response.text)\n\u001b[32m--> \u001b[39m\u001b[32m177\u001b[39m \u001b[38;5;28;01mraise\u001b[39;00m ApiError(status_code=_response.status_code, headers=\u001b[38;5;28mdict\u001b[39m(_response.headers), body=_response_json)\n",
      "\u001b[31mApiError\u001b[39m: headers: {'date': 'Wed, 03 Sep 2025 07:57:37 GMT', 'server': 'uvicorn', 'content-length': '130', 'content-type': 'application/json', 'access-control-allow-origin': '*', 'access-control-allow-headers': '*', 'access-control-allow-methods': 'POST, PATCH, OPTIONS, DELETE, GET, PUT', 'access-control-max-age': '600', 'strict-transport-security': 'max-age=31536000; includeSubDomains', 'x-trace-id': 'b3f44a7e4ea252b12228dbe9ada48f28', 'x-region': 'us-central1', 'via': '1.1 google, 1.1 google', 'alt-svc': 'h3=\":443\"; ma=2592000,h3-29=\":443\"; ma=2592000'}, status_code: 400, body: {'detail': {'status': 'speaker_separation_incomplete', 'message': 'Speaker separation must be completed before selecting a speaker.'}}"
     ]
    }
   ],
   "source": [
    "elevenlabs.voices.pvc.samples.update(\n",
    "    voice_id=voice.voice_id,\n",
    "    sample_id=sample.sample_id,\n",
    "    selected_speaker_ids=[speaker.speaker_id]\n",
    ")"
   ]
  },
  {
   "cell_type": "markdown",
   "id": "e13a3dbf",
   "metadata": {},
   "source": [
    "## AudioStack"
   ]
  },
  {
   "cell_type": "code",
   "execution_count": 5,
   "id": "257eaca7",
   "metadata": {},
   "outputs": [
    {
     "name": "stdout",
     "output_type": "stream",
     "text": [
      "403\n",
      "{'message': 'Access denied. Could not find a valid organization.'}\n"
     ]
    }
   ],
   "source": [
    "import requests\n",
    "\n",
    "url = \"https://v2.api.audio/speech/voice-cloning\"\n",
    "headers = {\n",
    "    \"Content-Type\": \"application/json\",\n",
    "    \"Authorization\": \"COG_Developers d54979fe-d8e9-498a-88e2-caf7b0db081a\"\n",
    "}\n",
    "payload = {\n",
    "    \"fileIds\": [r\"/Users/mohamad/Documents/GitHub/Personalized-RAG-Chatbot/voices/lv_0_20250912110033 1.mp3\",\n",
    "                r\"/Users/mohamad/Documents/GitHub/Personalized-RAG-Chatbot/voices/WhatsApp Audio 2025-08-23 at 4.00.19 PM.mpeg\",\n",
    "                r\"/Users/mohamad/Documents/GitHub/Personalized-RAG-Chatbot/voices/WhatsApp Audio 2025-08-23 at 12.13.58 PM.mp4\",\n",
    "                r\"/Users/mohamad/Documents/GitHub/Personalized-RAG-Chatbot/voices/WhatsApp Audio 2025-08-31 at 9.05.39 AM.mpeg\",\n",
    "                r\"/Users/mohamad/Documents/GitHub/Personalized-RAG-Chatbot/voices/WhatsApp Audio 2025-08-31 at 9.08.13 AM.mpeg\",\n",
    "                r\"/Users/mohamad/Documents/GitHub/Personalized-RAG-Chatbot/voices/WhatsApp Audio 2025-08-31 at 9.10.01 AM.mpeg\",\n",
    "                r\"/Users/mohamad/Documents/GitHub/Personalized-RAG-Chatbot/voices/WhatsApp Audio 2025-08-31 at 9.13.15 AM.mpeg\",\n",
    "                r\"/Users/mohamad/Documents/GitHub/Personalized-RAG-Chatbot/voices/WhatsApp Audio 2025-08-31 at 9.18.35 AM.mpeg\",\n",
    "                r\"/Users/mohamad/Documents/GitHub/Personalized-RAG-Chatbot/voices/WhatsApp Audio 2025-09-12 at 6.13.44 PM.mp4\"],\n",
    "    \"alias\": \"pro_clone\",\n",
    "    \"engine\": \"voice_engine_3\",\n",
    "    \"metadata\": {\n",
    "        \"gender\": \"male\"\n",
    "    }\n",
    "}\n",
    "\n",
    "response = requests.post(url, headers=headers, json=payload)\n",
    "print(response.status_code)\n",
    "print(response.json())\n"
   ]
  }
 ],
 "metadata": {
  "kernelspec": {
   "display_name": ".venv",
   "language": "python",
   "name": "python3"
  },
  "language_info": {
   "codemirror_mode": {
    "name": "ipython",
    "version": 3
   },
   "file_extension": ".py",
   "mimetype": "text/x-python",
   "name": "python",
   "nbconvert_exporter": "python",
   "pygments_lexer": "ipython3",
   "version": "3.11.9"
  }
 },
 "nbformat": 4,
 "nbformat_minor": 5
}
