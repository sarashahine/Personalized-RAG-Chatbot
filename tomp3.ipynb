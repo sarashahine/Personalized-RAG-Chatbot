{
 "cells": [
  {
   "cell_type": "code",
   "execution_count": 3,
   "id": "052fa31a",
   "metadata": {},
   "outputs": [
    {
     "name": "stdout",
     "output_type": "stream",
     "text": [
      "MoviePy - Writing audio in C:\\Users\\Lenovo\\Downloads\\WhatsApp Audio 2025-08-23 at 4.01.32 PM.wav\n"
     ]
    },
    {
     "name": "stderr",
     "output_type": "stream",
     "text": [
      "                                                                        "
     ]
    },
    {
     "name": "stdout",
     "output_type": "stream",
     "text": [
      "MoviePy - Done.\n"
     ]
    },
    {
     "name": "stderr",
     "output_type": "stream",
     "text": [
      "\r"
     ]
    }
   ],
   "source": [
    "from moviepy import AudioFileClip\n",
    "\n",
    "audio = AudioFileClip(r\"C:\\Users\\Lenovo\\Downloads\\WhatsApp Audio 2025-08-23 at 4.01.32 PM.mpeg\")\n",
    "\n",
    "audio.write_audiofile(r\"C:\\Users\\Lenovo\\Downloads\\WhatsApp Audio 2025-08-23 at 4.01.32 PM.wav\")"
   ]
  },
  {
   "cell_type": "code",
   "execution_count": 2,
   "id": "082f6b83",
   "metadata": {},
   "outputs": [
    {
     "name": "stdout",
     "output_type": "stream",
     "text": [
      "MoviePy - Writing audio in output.wav\n"
     ]
    },
    {
     "name": "stderr",
     "output_type": "stream",
     "text": [
      "                                                                        \r"
     ]
    },
    {
     "name": "stdout",
     "output_type": "stream",
     "text": [
      "MoviePy - Done.\n"
     ]
    }
   ],
   "source": [
    "from moviepy import VideoFileClip\n",
    "\n",
    "video = VideoFileClip(r\"/Users/mohamad/Documents/GitHub/Personalized-RAG-Chatbot/WhatsApp Video 2025-09-12 at 11.20.48 AM.mp4\")\n",
    "\n",
    "video.audio.write_audiofile(\"output.wav\", codec='pcm_s16le')"
   ]
  }
 ],
 "metadata": {
  "kernelspec": {
   "display_name": ".venv",
   "language": "python",
   "name": "python3"
  },
  "language_info": {
   "codemirror_mode": {
    "name": "ipython",
    "version": 3
   },
   "file_extension": ".py",
   "mimetype": "text/x-python",
   "name": "python",
   "nbconvert_exporter": "python",
   "pygments_lexer": "ipython3",
   "version": "3.11.9"
  }
 },
 "nbformat": 4,
 "nbformat_minor": 5
}
